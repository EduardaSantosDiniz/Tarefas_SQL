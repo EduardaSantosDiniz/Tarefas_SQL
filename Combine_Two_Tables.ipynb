{
  "cells": [
    {
      "cell_type": "code",
      "source": [
        "Table: Person\n",
        "\n",
        "+-------------+---------+\n",
        "| Column Name | Type    |\n",
        "+-------------+---------+\n",
        "| personId    | int     |\n",
        "| lastName    | varchar |\n",
        "| firstName   | varchar |\n",
        "+-------------+---------+\n",
        "personId is the primary key (column with unique values) for this table.\n",
        "This table contains information about the ID of some persons and their first and last names.\n",
        "\n",
        "\n",
        "Table: Address\n",
        "\n",
        "+-------------+---------+\n",
        "| Column Name | Type    |\n",
        "+-------------+---------+\n",
        "| addressId   | int     |\n",
        "| personId    | int     |\n",
        "| city        | varchar |\n",
        "| state       | varchar |\n",
        "+-------------+---------+\n",
        "addressId is the primary key (column with unique values) for this table.\n",
        "Each row of this table contains information about the city and state of one person with ID = PersonId.\n",
        "\n",
        "\n",
        "Write a solution to report the first name, last name, city, and state of each person in the Person table. If the address of a personId is not present in the Address table, report null instead.\n",
        "\n",
        "Return the result table in any order.\n",
        "\n",
        "The result format is in the following example.\n",
        "\n",
        "\n",
        "\n",
        "Example 1:\n",
        "\n",
        "Input:\n",
        "Person table:\n",
        "+----------+----------+-----------+\n",
        "| personId | lastName | firstName |\n",
        "+----------+----------+-----------+\n",
        "| 1        | Wang     | Allen     |\n",
        "| 2        | Alice    | Bob       |\n",
        "+----------+----------+-----------+\n",
        "Address table:\n",
        "+-----------+----------+---------------+------------+\n",
        "| addressId | personId | city          | state      |\n",
        "+-----------+----------+---------------+------------+\n",
        "| 1         | 2        | New York City | New York   |\n",
        "| 2         | 3        | Leetcode      | California |\n",
        "+-----------+----------+---------------+------------+\n",
        "Output:\n",
        "+-----------+----------+---------------+----------+\n",
        "| firstName | lastName | city          | state    |\n",
        "+-----------+----------+---------------+----------+\n",
        "| Allen     | Wang     | Null          | Null     |\n",
        "| Bob       | Alice    | New York City | New York |\n",
        "+-----------+----------+---------------+----------+\n",
        "Explanation:\n",
        "There is no address in the address table for the personId = 1 so we return null in their city and state.\n",
        "addressId = 1 contains information about the address of personId = 2."
      ],
      "metadata": {
        "id": "AEqBaslsH6tF"
      },
      "execution_count": null,
      "outputs": []
    },
    {
      "cell_type": "markdown",
      "source": [
        "# **Resposta Correta:**"
      ],
      "metadata": {
        "id": "rdq09qNqH-rt"
      }
    },
    {
      "cell_type": "code",
      "source": [
        "select p.firstName\n",
        "  , p.lastName\n",
        "  , a.city\n",
        "  , a.state\n",
        "from Person p left\n",
        "join Address a\n",
        "  on a.personId = p.personId"
      ],
      "metadata": {
        "id": "reyncFhyICnF"
      },
      "execution_count": null,
      "outputs": []
    },
    {
      "cell_type": "markdown",
      "source": [
        "# **Explicação:**"
      ],
      "metadata": {
        "id": "8xaCNzw5IIoN"
      }
    },
    {
      "cell_type": "markdown",
      "source": [
        "# 1. SELECT\n",
        "\n",
        "    SELECT p.firstName\n",
        "    , p.lastName\n",
        "    , a.city,\n",
        "     a.state\n",
        "Seleciona os campos desejados:\n",
        "\n",
        "firstName e lastName da tabela Person.\n",
        "\n",
        "city e state da tabela Address.\n",
        "\n",
        "# 2. FROM Person p\n",
        "\n",
        "    FROM Person p\n",
        "Define a tabela principal como Person, com o alias p.\n",
        "\n",
        "# 3. LEFT JOIN\n",
        "Address a ON a.personId = p.personId\n",
        "\n",
        "    LEFT JOIN Address a ON a.personId = p.personId\n",
        "\n",
        "Faz um LEFT JOIN entre Person e Address:\n",
        "\n",
        "Isso garante que todas as pessoas da tabela Person apareçam no resultado.\n",
        "\n",
        "Se não houver endereço correspondente na tabela Address, os campos city e state virão como NULL."
      ],
      "metadata": {
        "id": "m8kcT8D3INGu"
      }
    },
    {
      "cell_type": "markdown",
      "source": [
        "# Fontes:"
      ],
      "metadata": {
        "id": "ESqa6QiILm2R"
      }
    },
    {
      "cell_type": "markdown",
      "source": [
        "**Link do Site da Atividade:** https://leetcode.com/\n",
        "\n",
        "**Link da Atividade:** https://leetcode.com/problems/combine-two-tables/submissions/1766541985/"
      ],
      "metadata": {
        "id": "n1jVsJb9LozR"
      }
    }
  ],
  "metadata": {
    "colab": {
      "name": "Conheça o Colab",
      "toc_visible": true,
      "provenance": []
    },
    "kernelspec": {
      "display_name": "Python 3",
      "name": "python3"
    }
  },
  "nbformat": 4,
  "nbformat_minor": 0
}