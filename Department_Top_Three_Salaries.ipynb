{
  "cells": [
    {
      "cell_type": "code",
      "source": [
        "Table: Employee\n",
        "\n",
        "+--------------+---------+\n",
        "| Column Name  | Type    |\n",
        "+--------------+---------+\n",
        "| id           | int     |\n",
        "| name         | varchar |\n",
        "| salary       | int     |\n",
        "| departmentId | int     |\n",
        "+--------------+---------+\n",
        "id is the primary key (column with unique values) for this table.\n",
        "departmentId is a foreign key (reference column) of the ID from the Department table.\n",
        "Each row of this table indicates the ID, name, and salary of an employee. It also contains the ID of their department.\n",
        "\n",
        "\n",
        "Table: Department\n",
        "\n",
        "+-------------+---------+\n",
        "| Column Name | Type    |\n",
        "+-------------+---------+\n",
        "| id          | int     |\n",
        "| name        | varchar |\n",
        "+-------------+---------+\n",
        "id is the primary key (column with unique values) for this table.\n",
        "Each row of this table indicates the ID of a department and its name.\n",
        "\n",
        "\n",
        "A company's executives are interested in seeing who earns the most money in each of the company's departments. A high earner in a department is an employee who has a salary in the top three unique salaries for that department.\n",
        "\n",
        "Write a solution to find the employees who are high earners in each of the departments.\n",
        "\n",
        "Return the result table in any order.\n",
        "\n",
        "The result format is in the following example.\n",
        "\n",
        "\n",
        "\n",
        "Example 1:\n",
        "\n",
        "Input:\n",
        "Employee table:\n",
        "+----+-------+--------+--------------+\n",
        "| id | name  | salary | departmentId |\n",
        "+----+-------+--------+--------------+\n",
        "| 1  | Joe   | 85000  | 1            |\n",
        "| 2  | Henry | 80000  | 2            |\n",
        "| 3  | Sam   | 60000  | 2            |\n",
        "| 4  | Max   | 90000  | 1            |\n",
        "| 5  | Janet | 69000  | 1            |\n",
        "| 6  | Randy | 85000  | 1            |\n",
        "| 7  | Will  | 70000  | 1            |\n",
        "+----+-------+--------+--------------+\n",
        "Department table:\n",
        "+----+-------+\n",
        "| id | name  |\n",
        "+----+-------+\n",
        "| 1  | IT    |\n",
        "| 2  | Sales |\n",
        "+----+-------+\n",
        "Output:\n",
        "+------------+----------+--------+\n",
        "| Department | Employee | Salary |\n",
        "+------------+----------+--------+\n",
        "| IT         | Max      | 90000  |\n",
        "| IT         | Joe      | 85000  |\n",
        "| IT         | Randy    | 85000  |\n",
        "| IT         | Will     | 70000  |\n",
        "| Sales      | Henry    | 80000  |\n",
        "| Sales      | Sam      | 60000  |\n",
        "+------------+----------+--------+\n",
        "Explanation:\n",
        "In the IT department:\n",
        "- Max earns the highest unique salary\n",
        "- Both Randy and Joe earn the second-highest unique salary\n",
        "- Will earns the third-highest unique salary\n",
        "\n",
        "In the Sales department:\n",
        "- Henry earns the highest salary\n",
        "- Sam earns the second-highest salary\n",
        "- There is no third-highest salary as there are only two employees"
      ],
      "metadata": {
        "id": "AEqBaslsH6tF"
      },
      "execution_count": null,
      "outputs": []
    },
    {
      "cell_type": "markdown",
      "source": [
        "# **Resposta Correta:**"
      ],
      "metadata": {
        "id": "rdq09qNqH-rt"
      }
    },
    {
      "cell_type": "code",
      "source": [
        "WITH CTE AS (\n",
        "    SELECT DENSE_RANK() OVER(PARTITION BY d.name ORDER BY e.salary DESC) AS ranking\n",
        "    , e.name as Employee\n",
        "    , e.salary as Salary\n",
        "    , d.name as Department\n",
        "FROM employee e\n",
        "JOIN department d\n",
        "    ON d.id = e.departmentId\n",
        ")SELECT CTE.Department\n",
        "    , CTE.Employee\n",
        "    , CTE.Salary\n",
        "FROM CTE\n",
        "WHERE CTE.ranking <= 3"
      ],
      "metadata": {
        "id": "reyncFhyICnF"
      },
      "execution_count": null,
      "outputs": []
    },
    {
      "cell_type": "markdown",
      "source": [
        "# **Explicação:**"
      ],
      "metadata": {
        "id": "8xaCNzw5IIoN"
      }
    },
    {
      "cell_type": "markdown",
      "source": [
        "**1. CTE (Common Table Expression)**\n",
        "\n",
        "\n",
        "    WITH CTE AS (\n",
        "        SELECT DENSE_RANK() OVER(PARTITION BY d.name ORDER BY e.salary DESC) AS ranking,\n",
        "              e.name AS Employee,\n",
        "              e.salary AS Salary,\n",
        "              d.name AS Department\n",
        "        FROM employee e\n",
        "        JOIN department d ON d.id = e.departmentId\n",
        "    )\n",
        "**JOIN:**\n",
        "Junta a tabela Employee com Department para obter o nome do departamento de cada funcionário.\n",
        "\n",
        "    DENSE_RANK() OVER(PARTITION BY d.name ORDER BY e.salary DESC):\n",
        "\n",
        "Agrupa os funcionários por departamento\n",
        "  \n",
        "    (PARTITION BY d.name).\n",
        "\n",
        "Ordena os salários em ordem decrescente\n",
        "   \n",
        "    (ORDER BY e.salary DESC).\n",
        "\n",
        "Atribui um ranking denso para os salários:\n",
        "\n",
        "Salários iguais recebem o mesmo ranking.\n",
        "\n",
        "Rankings não pulam números\n",
        "\n",
        "    (diferente de RANK()).\n",
        "\n",
        "Exemplo: salários 90000, 85000, 85000, 70000 → rankings 1, 2, 2, 3.\n",
        "\n",
        "**2. Filtragem dos Top 3**\n",
        "\n",
        "    SELECT CTE.Department,\n",
        "          CTE.Employee,\n",
        "          CTE.Salary\n",
        "    FROM CTE\n",
        "    WHERE CTE.ranking <= 3\n",
        "Seleciona apenas os funcionários que têm ranking 1, 2 ou 3 — ou seja, estão entre os três maiores salários únicos do seu departamento.\n"
      ],
      "metadata": {
        "id": "m8kcT8D3INGu"
      }
    },
    {
      "cell_type": "markdown",
      "source": [
        "# Fontes:"
      ],
      "metadata": {
        "id": "ESqa6QiILm2R"
      }
    },
    {
      "cell_type": "markdown",
      "source": [
        "**Link do Site da Atividade:** https://leetcode.com/\n",
        "\n",
        "**Link da Atividade:** https://leetcode.com/problems/department-top-three-salaries/submissions/1766591906/"
      ],
      "metadata": {
        "id": "n1jVsJb9LozR"
      }
    }
  ],
  "metadata": {
    "colab": {
      "name": "Conheça o Colab",
      "toc_visible": true,
      "provenance": []
    },
    "kernelspec": {
      "display_name": "Python 3",
      "name": "python3"
    }
  },
  "nbformat": 4,
  "nbformat_minor": 0
}